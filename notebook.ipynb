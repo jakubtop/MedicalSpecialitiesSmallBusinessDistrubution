{
 "cells": [
  {
   "attachments": {},
   "cell_type": "markdown",
   "metadata": {},
   "source": [
    "<h1>Introduction</h1>\n",
    "As medicine student, recently i become interested in what specialization is most suitable for me. I've quite independet character so running small one persons clinic is something i'm gonna like. But it isn't suitable for all specializations, for example neural surgeons or ACUTE medicine specialist can't run one person bussines, becouse they work with severe patients in hospitals.\n",
    "\n",
    "<strong> So i make a question: how popular are different doctors specialities in small one persons clinics? </strong>\n",
    "\n",
    "And in this notebook i want to show you data driven approach to answer this question."
   ]
  },
  {
   "attachments": {},
   "cell_type": "markdown",
   "metadata": {},
   "source": [
    "<h2 style=\"font-size: 20px;\"> Data Collection </h2>"
   ]
  },
  {
   "attachments": {},
   "cell_type": "markdown",
   "metadata": {},
   "source": [
    "For our research we will get data from CEIDG (Central Evidency and Information about Enterprise) governmental site in my country (Poland).\n",
    "We will download data for 2 PKD codes (that stands for <i>Polish Classification of Activities</i>):\n",
    "-86.21.Z for general practitioners\n",
    "-86.22.Z for specialzied practitioners"
   ]
  },
  {
   "cell_type": "code",
   "execution_count": 121,
   "metadata": {},
   "outputs": [],
   "source": [
    "import pandas as pd\n",
    "general_practitioners = pd.read_csv('general-practitioners.csv',sep=';')\n",
    "specialized_practitioners = pd.read_csv('specialized-practitioners.csv',sep=';')"
   ]
  },
  {
   "attachments": {},
   "cell_type": "markdown",
   "metadata": {},
   "source": [
    "For our reasearch we will merge this two data_frames and later search them fro different specialization, becouse in some cases doctors with specialization can be registered in general practitioners and vice versa.\n"
   ]
  },
  {
   "cell_type": "code",
   "execution_count": 122,
   "metadata": {},
   "outputs": [],
   "source": [
    "data = pd.concat([general_practitioners, specialized_practitioners])"
   ]
  },
  {
   "cell_type": "code",
   "execution_count": 123,
   "metadata": {},
   "outputs": [
    {
     "data": {
      "text/plain": [
       "(94519, 9)"
      ]
     },
     "execution_count": 123,
     "metadata": {},
     "output_type": "execute_result"
    }
   ],
   "source": [
    "data.shape"
   ]
  },
  {
   "cell_type": "code",
   "execution_count": 124,
   "metadata": {},
   "outputs": [
    {
     "data": {
      "text/html": [
       "<div>\n",
       "<style scoped>\n",
       "    .dataframe tbody tr th:only-of-type {\n",
       "        vertical-align: middle;\n",
       "    }\n",
       "\n",
       "    .dataframe tbody tr th {\n",
       "        vertical-align: top;\n",
       "    }\n",
       "\n",
       "    .dataframe thead th {\n",
       "        text-align: right;\n",
       "    }\n",
       "</style>\n",
       "<table border=\"1\" class=\"dataframe\">\n",
       "  <thead>\n",
       "    <tr style=\"text-align: right;\">\n",
       "      <th></th>\n",
       "      <th>NazwaPodmiotu</th>\n",
       "      <th>Nip</th>\n",
       "      <th>Regon</th>\n",
       "      <th>KodPocztowy</th>\n",
       "      <th>Miejscowość</th>\n",
       "      <th>Ulica</th>\n",
       "      <th>NrBudynku</th>\n",
       "      <th>NrLokalu</th>\n",
       "      <th>DataRozpoczęciaDziałalności</th>\n",
       "    </tr>\n",
       "  </thead>\n",
       "  <tbody>\n",
       "    <tr>\n",
       "      <th>0</th>\n",
       "      <td>Maciej Postolski PRAKTYKA LEKARSKA</td>\n",
       "      <td>1.130132e+09</td>\n",
       "      <td>11450677.0</td>\n",
       "      <td>NaN</td>\n",
       "      <td>Warszawa</td>\n",
       "      <td>NaN</td>\n",
       "      <td>NaN</td>\n",
       "      <td>NaN</td>\n",
       "      <td>1991-11-04</td>\n",
       "    </tr>\n",
       "    <tr>\n",
       "      <th>1</th>\n",
       "      <td>WOJCIECH GLINKOWSKI GABINET LEKARSKI</td>\n",
       "      <td>1.130344e+09</td>\n",
       "      <td>11420481.0</td>\n",
       "      <td>NaN</td>\n",
       "      <td>Warszawa</td>\n",
       "      <td>NaN</td>\n",
       "      <td>NaN</td>\n",
       "      <td>NaN</td>\n",
       "      <td>1991-07-17</td>\n",
       "    </tr>\n",
       "    <tr>\n",
       "      <th>2</th>\n",
       "      <td>Lekarz medycyny, lekarz pediatra - Jerzy Stążka</td>\n",
       "      <td>1.130393e+09</td>\n",
       "      <td>16243084.0</td>\n",
       "      <td>NaN</td>\n",
       "      <td>Jadwisin</td>\n",
       "      <td>NaN</td>\n",
       "      <td>NaN</td>\n",
       "      <td>NaN</td>\n",
       "      <td>2000-02-02</td>\n",
       "    </tr>\n",
       "    <tr>\n",
       "      <th>3</th>\n",
       "      <td>Leksyka Jarosław Jóźwiak</td>\n",
       "      <td>1.130399e+09</td>\n",
       "      <td>384803460.0</td>\n",
       "      <td>NaN</td>\n",
       "      <td>NaN</td>\n",
       "      <td>NaN</td>\n",
       "      <td>NaN</td>\n",
       "      <td>NaN</td>\n",
       "      <td>2019-11-05</td>\n",
       "    </tr>\n",
       "    <tr>\n",
       "      <th>4</th>\n",
       "      <td>Praktyka lekarska Ewa Dąbrowska</td>\n",
       "      <td>1.130606e+09</td>\n",
       "      <td>12162348.0</td>\n",
       "      <td>NaN</td>\n",
       "      <td>Pruszków</td>\n",
       "      <td>NaN</td>\n",
       "      <td>NaN</td>\n",
       "      <td>NaN</td>\n",
       "      <td>2022-02-02</td>\n",
       "    </tr>\n",
       "  </tbody>\n",
       "</table>\n",
       "</div>"
      ],
      "text/plain": [
       "                                     NazwaPodmiotu           Nip        Regon  \\\n",
       "0               Maciej Postolski PRAKTYKA LEKARSKA  1.130132e+09   11450677.0   \n",
       "1             WOJCIECH GLINKOWSKI GABINET LEKARSKI  1.130344e+09   11420481.0   \n",
       "2  Lekarz medycyny, lekarz pediatra - Jerzy Stążka  1.130393e+09   16243084.0   \n",
       "3                         Leksyka Jarosław Jóźwiak  1.130399e+09  384803460.0   \n",
       "4                  Praktyka lekarska Ewa Dąbrowska  1.130606e+09   12162348.0   \n",
       "\n",
       "   KodPocztowy Miejscowość  Ulica  NrBudynku  NrLokalu  \\\n",
       "0          NaN    Warszawa    NaN        NaN       NaN   \n",
       "1          NaN    Warszawa    NaN        NaN       NaN   \n",
       "2          NaN    Jadwisin    NaN        NaN       NaN   \n",
       "3          NaN         NaN    NaN        NaN       NaN   \n",
       "4          NaN    Pruszków    NaN        NaN       NaN   \n",
       "\n",
       "  DataRozpoczęciaDziałalności   \n",
       "0                   1991-11-04  \n",
       "1                   1991-07-17  \n",
       "2                   2000-02-02  \n",
       "3                   2019-11-05  \n",
       "4                   2022-02-02  "
      ]
     },
     "execution_count": 124,
     "metadata": {},
     "output_type": "execute_result"
    }
   ],
   "source": [
    "data.head()"
   ]
  },
  {
   "cell_type": "code",
   "execution_count": 125,
   "metadata": {},
   "outputs": [
    {
     "data": {
      "text/plain": [
       "Index(['NazwaPodmiotu', 'Nip', 'Regon', 'KodPocztowy', 'Miejscowość', 'Ulica',\n",
       "       'NrBudynku', 'NrLokalu', 'DataRozpoczęciaDziałalności '],\n",
       "      dtype='object')"
      ]
     },
     "execution_count": 125,
     "metadata": {},
     "output_type": "execute_result"
    }
   ],
   "source": [
    "data.columns"
   ]
  },
  {
   "attachments": {},
   "cell_type": "markdown",
   "metadata": {},
   "source": [
    "<h2 style=\"font-size: 20px;\"> Data Processing </h2>"
   ]
  },
  {
   "attachments": {},
   "cell_type": "markdown",
   "metadata": {},
   "source": [
    "What in data is in our interest?\n",
    "\n",
    "'NazwaPodmiotu' -> Bussiness name, most useful for answering our question. <br> For most cases it's only Firstname and Lastname of owner but in some cases there is also name of medical speciality, and for that cases we are going to create new variable where we will place only speciality name.\n",
    "\n",
    "Aditionaly we will keep this data:\n",
    "'Miejscowośc' -> City\n",
    "'DataRozpoczeciaDzialanosci' -> Bussiness starting date, on what we can calculate how long bussiness is running."
   ]
  },
  {
   "cell_type": "code",
   "execution_count": 126,
   "metadata": {},
   "outputs": [],
   "source": [
    "data = data[['NazwaPodmiotu','Miejscowość','DataRozpoczęciaDziałalności ']]"
   ]
  },
  {
   "cell_type": "code",
   "execution_count": 127,
   "metadata": {},
   "outputs": [],
   "source": [
    "specialities = {'allergist':'allergo',\n",
    "                'anesthetist':'anestezjo',\n",
    "                'angiologist':'angio',\n",
    "                'audiologist':'audio',\n",
    "                'surgeon':'chiru',\n",
    "                'pulmonologist':'pulmo',\n",
    "                'internist':'intern',\n",
    "                'infectiousDiseaseSpecialist':'zakaź',\n",
    "                'dermatologist':'dermat',\n",
    "                'diabetologist':'diabe',\n",
    "                'endocrinologist':'endokry',\n",
    "                'gastroenterologist':'gastro',\n",
    "                'genetist':'genet',\n",
    "                'geriatrician':'geria',\n",
    "                'haemotologist':'hema',\n",
    "                'immunologist':'immu',\n",
    "                'kardgiologist':'kardio',\n",
    "                'nuclear medicine specialist':'jądro',\n",
    "                'occupational physician':'prac',\n",
    "                'general practitioner':'rodzi',\n",
    "                'sport medicine specialist':'sport',\n",
    "                'nephrologist':'nefr',\n",
    "                'neonatologist':'neonat',\n",
    "                'neurologist':'neuro',\n",
    "                'ophtalmologist':'okuli',\n",
    "                'oncologist':'onkol',\n",
    "                'orthopaedist':'ortope',\n",
    "                'patomorphologhist':'patomor',\n",
    "                'pediatrician':'pediat',\n",
    "                'gynecologist':'ginek',\n",
    "                'psychiatrist':'psych',\n",
    "                'radiologist':'radiolo',\n",
    "                'physical therapy specialist':'rehability',\n",
    "                'reumatologist':'reuma',\n",
    "                'urologist':'urol'\n",
    "                }"
   ]
  },
  {
   "cell_type": "code",
   "execution_count": 128,
   "metadata": {},
   "outputs": [],
   "source": [
    "#Creating new column 'RunningTime'\n",
    "from datetime import date\n",
    "current_year = date.today().year\n",
    "current_year = [current_year for n in range(0,len(data))]\n",
    "\n",
    "data['RunningTime'] = current_year - pd.DatetimeIndex(data=data['DataRozpoczęciaDziałalności ']).year"
   ]
  },
  {
   "attachments": {},
   "cell_type": "markdown",
   "metadata": {},
   "source": [
    "<strong> It must be noted that in our research we made assuption that there is equal unknown propability of inserting speciality name in business name for every speciality. </strong>"
   ]
  },
  {
   "cell_type": "code",
   "execution_count": 129,
   "metadata": {},
   "outputs": [
    {
     "data": {
      "text/html": [
       "<div>\n",
       "<style scoped>\n",
       "    .dataframe tbody tr th:only-of-type {\n",
       "        vertical-align: middle;\n",
       "    }\n",
       "\n",
       "    .dataframe tbody tr th {\n",
       "        vertical-align: top;\n",
       "    }\n",
       "\n",
       "    .dataframe thead th {\n",
       "        text-align: right;\n",
       "    }\n",
       "</style>\n",
       "<table border=\"1\" class=\"dataframe\">\n",
       "  <thead>\n",
       "    <tr style=\"text-align: right;\">\n",
       "      <th></th>\n",
       "      <th>NazwaPodmiotu</th>\n",
       "      <th>Miejscowość</th>\n",
       "      <th>DataRozpoczęciaDziałalności</th>\n",
       "      <th>RunningTime</th>\n",
       "      <th>Speciality</th>\n",
       "    </tr>\n",
       "  </thead>\n",
       "  <tbody>\n",
       "    <tr>\n",
       "      <th>0</th>\n",
       "      <td>Maciej Postolski PRAKTYKA LEKARSKA</td>\n",
       "      <td>Warszawa</td>\n",
       "      <td>1991-11-04</td>\n",
       "      <td>32</td>\n",
       "      <td></td>\n",
       "    </tr>\n",
       "    <tr>\n",
       "      <th>1</th>\n",
       "      <td>WOJCIECH GLINKOWSKI GABINET LEKARSKI</td>\n",
       "      <td>Warszawa</td>\n",
       "      <td>1991-07-17</td>\n",
       "      <td>32</td>\n",
       "      <td></td>\n",
       "    </tr>\n",
       "    <tr>\n",
       "      <th>2</th>\n",
       "      <td>Lekarz medycyny, lekarz pediatra - Jerzy Stążka</td>\n",
       "      <td>Jadwisin</td>\n",
       "      <td>2000-02-02</td>\n",
       "      <td>23</td>\n",
       "      <td></td>\n",
       "    </tr>\n",
       "    <tr>\n",
       "      <th>3</th>\n",
       "      <td>Leksyka Jarosław Jóźwiak</td>\n",
       "      <td>NaN</td>\n",
       "      <td>2019-11-05</td>\n",
       "      <td>4</td>\n",
       "      <td></td>\n",
       "    </tr>\n",
       "    <tr>\n",
       "      <th>4</th>\n",
       "      <td>Praktyka lekarska Ewa Dąbrowska</td>\n",
       "      <td>Pruszków</td>\n",
       "      <td>2022-02-02</td>\n",
       "      <td>1</td>\n",
       "      <td></td>\n",
       "    </tr>\n",
       "  </tbody>\n",
       "</table>\n",
       "</div>"
      ],
      "text/plain": [
       "                                     NazwaPodmiotu Miejscowość  \\\n",
       "0               Maciej Postolski PRAKTYKA LEKARSKA    Warszawa   \n",
       "1             WOJCIECH GLINKOWSKI GABINET LEKARSKI    Warszawa   \n",
       "2  Lekarz medycyny, lekarz pediatra - Jerzy Stążka    Jadwisin   \n",
       "3                         Leksyka Jarosław Jóźwiak         NaN   \n",
       "4                  Praktyka lekarska Ewa Dąbrowska    Pruszków   \n",
       "\n",
       "  DataRozpoczęciaDziałalności   RunningTime Speciality  \n",
       "0                   1991-11-04           32             \n",
       "1                   1991-07-17           32             \n",
       "2                   2000-02-02           23             \n",
       "3                   2019-11-05            4             \n",
       "4                   2022-02-02            1             "
      ]
     },
     "execution_count": 129,
     "metadata": {},
     "output_type": "execute_result"
    }
   ],
   "source": [
    "data['Speciality']=''\n",
    "data.head()"
   ]
  },
  {
   "cell_type": "code",
   "execution_count": 130,
   "metadata": {},
   "outputs": [],
   "source": [
    "for new, old in specialities.items():\n",
    "    data.loc[lambda df: df['NazwaPodmiotu'].str.lower().str.contains(old), ['Speciality']] = new\n"
   ]
  },
  {
   "cell_type": "code",
   "execution_count": 131,
   "metadata": {},
   "outputs": [
    {
     "data": {
      "text/plain": [
       "(94519, 5)"
      ]
     },
     "execution_count": 131,
     "metadata": {},
     "output_type": "execute_result"
    }
   ],
   "source": [
    "data.shape"
   ]
  },
  {
   "cell_type": "code",
   "execution_count": 136,
   "metadata": {},
   "outputs": [
    {
     "data": {
      "text/html": [
       "<div>\n",
       "<style scoped>\n",
       "    .dataframe tbody tr th:only-of-type {\n",
       "        vertical-align: middle;\n",
       "    }\n",
       "\n",
       "    .dataframe tbody tr th {\n",
       "        vertical-align: top;\n",
       "    }\n",
       "\n",
       "    .dataframe thead th {\n",
       "        text-align: right;\n",
       "    }\n",
       "</style>\n",
       "<table border=\"1\" class=\"dataframe\">\n",
       "  <thead>\n",
       "    <tr style=\"text-align: right;\">\n",
       "      <th></th>\n",
       "      <th>NazwaPodmiotu</th>\n",
       "      <th>Miejscowość</th>\n",
       "      <th>DataRozpoczęciaDziałalności</th>\n",
       "      <th>RunningTime</th>\n",
       "      <th>Speciality</th>\n",
       "    </tr>\n",
       "  </thead>\n",
       "  <tbody>\n",
       "    <tr>\n",
       "      <th>0</th>\n",
       "      <td>Maciej Postolski PRAKTYKA LEKARSKA</td>\n",
       "      <td>Warszawa</td>\n",
       "      <td>1991-11-04</td>\n",
       "      <td>32</td>\n",
       "      <td></td>\n",
       "    </tr>\n",
       "    <tr>\n",
       "      <th>1</th>\n",
       "      <td>WOJCIECH GLINKOWSKI GABINET LEKARSKI</td>\n",
       "      <td>Warszawa</td>\n",
       "      <td>1991-07-17</td>\n",
       "      <td>32</td>\n",
       "      <td></td>\n",
       "    </tr>\n",
       "    <tr>\n",
       "      <th>2</th>\n",
       "      <td>Lekarz medycyny, lekarz pediatra - Jerzy Stążka</td>\n",
       "      <td>Jadwisin</td>\n",
       "      <td>2000-02-02</td>\n",
       "      <td>23</td>\n",
       "      <td>pediatrician</td>\n",
       "    </tr>\n",
       "    <tr>\n",
       "      <th>3</th>\n",
       "      <td>Leksyka Jarosław Jóźwiak</td>\n",
       "      <td>NaN</td>\n",
       "      <td>2019-11-05</td>\n",
       "      <td>4</td>\n",
       "      <td></td>\n",
       "    </tr>\n",
       "    <tr>\n",
       "      <th>4</th>\n",
       "      <td>Praktyka lekarska Ewa Dąbrowska</td>\n",
       "      <td>Pruszków</td>\n",
       "      <td>2022-02-02</td>\n",
       "      <td>1</td>\n",
       "      <td></td>\n",
       "    </tr>\n",
       "  </tbody>\n",
       "</table>\n",
       "</div>"
      ],
      "text/plain": [
       "                                     NazwaPodmiotu Miejscowość  \\\n",
       "0               Maciej Postolski PRAKTYKA LEKARSKA    Warszawa   \n",
       "1             WOJCIECH GLINKOWSKI GABINET LEKARSKI    Warszawa   \n",
       "2  Lekarz medycyny, lekarz pediatra - Jerzy Stążka    Jadwisin   \n",
       "3                         Leksyka Jarosław Jóźwiak         NaN   \n",
       "4                  Praktyka lekarska Ewa Dąbrowska    Pruszków   \n",
       "\n",
       "  DataRozpoczęciaDziałalności   RunningTime    Speciality  \n",
       "0                   1991-11-04           32                \n",
       "1                   1991-07-17           32                \n",
       "2                   2000-02-02           23  pediatrician  \n",
       "3                   2019-11-05            4                \n",
       "4                   2022-02-02            1                "
      ]
     },
     "execution_count": 136,
     "metadata": {},
     "output_type": "execute_result"
    }
   ],
   "source": [
    "data.head()"
   ]
  },
  {
   "cell_type": "code",
   "execution_count": 132,
   "metadata": {},
   "outputs": [],
   "source": [
    "data_with_specialities = data.drop(data[data['Speciality']==''].index)"
   ]
  },
  {
   "cell_type": "code",
   "execution_count": 133,
   "metadata": {},
   "outputs": [
    {
     "data": {
      "text/plain": [
       "(6941, 5)"
      ]
     },
     "execution_count": 133,
     "metadata": {},
     "output_type": "execute_result"
    }
   ],
   "source": [
    "data_with_specialities.shape"
   ]
  },
  {
   "cell_type": "code",
   "execution_count": 137,
   "metadata": {},
   "outputs": [
    {
     "data": {
      "text/html": [
       "<div>\n",
       "<style scoped>\n",
       "    .dataframe tbody tr th:only-of-type {\n",
       "        vertical-align: middle;\n",
       "    }\n",
       "\n",
       "    .dataframe tbody tr th {\n",
       "        vertical-align: top;\n",
       "    }\n",
       "\n",
       "    .dataframe thead th {\n",
       "        text-align: right;\n",
       "    }\n",
       "</style>\n",
       "<table border=\"1\" class=\"dataframe\">\n",
       "  <thead>\n",
       "    <tr style=\"text-align: right;\">\n",
       "      <th></th>\n",
       "      <th>NazwaPodmiotu</th>\n",
       "      <th>Miejscowość</th>\n",
       "      <th>DataRozpoczęciaDziałalności</th>\n",
       "      <th>RunningTime</th>\n",
       "      <th>Speciality</th>\n",
       "    </tr>\n",
       "  </thead>\n",
       "  <tbody>\n",
       "    <tr>\n",
       "      <th>70</th>\n",
       "      <td>ELŻBIETA RADZIMOWSKA-RAU PRAKTYKA INTERNISTYCZNA</td>\n",
       "      <td>NaN</td>\n",
       "      <td>1995-03-01</td>\n",
       "      <td>28</td>\n",
       "      <td>internist</td>\n",
       "    </tr>\n",
       "    <tr>\n",
       "      <th>247</th>\n",
       "      <td>Specjalistyczna Przychodnia Lekarska Internist...</td>\n",
       "      <td>Izabelin C</td>\n",
       "      <td>1994-01-21</td>\n",
       "      <td>29</td>\n",
       "      <td>pediatrician</td>\n",
       "    </tr>\n",
       "    <tr>\n",
       "      <th>384</th>\n",
       "      <td>EWA MARCHEWA NIEPUBLICZNY ZAKŁAD OPIEKI ZDROWO...</td>\n",
       "      <td>Osuchów</td>\n",
       "      <td>2001-03-31</td>\n",
       "      <td>22</td>\n",
       "      <td>general practitioner</td>\n",
       "    </tr>\n",
       "    <tr>\n",
       "      <th>537</th>\n",
       "      <td>PSYCHIATRYCZNE WIZYTY DOMOWE WALCZAK SŁAWOMIR</td>\n",
       "      <td>Warszawa</td>\n",
       "      <td>2002-10-10</td>\n",
       "      <td>21</td>\n",
       "      <td>psychiatrist</td>\n",
       "    </tr>\n",
       "    <tr>\n",
       "      <th>553</th>\n",
       "      <td>\"GABINET INTERNISTYCZNY Ireneusz MIZERSKI</td>\n",
       "      <td>NaN</td>\n",
       "      <td>1999-05-12</td>\n",
       "      <td>24</td>\n",
       "      <td>internist</td>\n",
       "    </tr>\n",
       "  </tbody>\n",
       "</table>\n",
       "</div>"
      ],
      "text/plain": [
       "                                         NazwaPodmiotu Miejscowość  \\\n",
       "70    ELŻBIETA RADZIMOWSKA-RAU PRAKTYKA INTERNISTYCZNA         NaN   \n",
       "247  Specjalistyczna Przychodnia Lekarska Internist...  Izabelin C   \n",
       "384  EWA MARCHEWA NIEPUBLICZNY ZAKŁAD OPIEKI ZDROWO...     Osuchów   \n",
       "537      PSYCHIATRYCZNE WIZYTY DOMOWE WALCZAK SŁAWOMIR    Warszawa   \n",
       "553          \"GABINET INTERNISTYCZNY Ireneusz MIZERSKI         NaN   \n",
       "\n",
       "    DataRozpoczęciaDziałalności   RunningTime            Speciality  \n",
       "70                    1995-03-01           28             internist  \n",
       "247                   1994-01-21           29          pediatrician  \n",
       "384                   2001-03-31           22  general practitioner  \n",
       "537                   2002-10-10           21          psychiatrist  \n",
       "553                   1999-05-12           24             internist  "
      ]
     },
     "execution_count": 137,
     "metadata": {},
     "output_type": "execute_result"
    }
   ],
   "source": [
    "data_with_specialities.head()"
   ]
  },
  {
   "cell_type": "code",
   "execution_count": 167,
   "metadata": {},
   "outputs": [],
   "source": [
    "specialities_count = data_with_specialities.groupby(['Speciality'])['Speciality'].count().to_frame()\n",
    "specialities_count.columns = ['Number']"
   ]
  },
  {
   "cell_type": "code",
   "execution_count": 193,
   "metadata": {},
   "outputs": [],
   "source": [
    "specialities_count.sort_values(by=['Number'],inplace=True,ascending=False)"
   ]
  },
  {
   "cell_type": "code",
   "execution_count": 194,
   "metadata": {},
   "outputs": [
    {
     "data": {
      "text/html": [
       "<div>\n",
       "<style scoped>\n",
       "    .dataframe tbody tr th:only-of-type {\n",
       "        vertical-align: middle;\n",
       "    }\n",
       "\n",
       "    .dataframe tbody tr th {\n",
       "        vertical-align: top;\n",
       "    }\n",
       "\n",
       "    .dataframe thead th {\n",
       "        text-align: right;\n",
       "    }\n",
       "</style>\n",
       "<table border=\"1\" class=\"dataframe\">\n",
       "  <thead>\n",
       "    <tr style=\"text-align: right;\">\n",
       "      <th></th>\n",
       "      <th>Number</th>\n",
       "    </tr>\n",
       "    <tr>\n",
       "      <th>Speciality</th>\n",
       "      <th></th>\n",
       "    </tr>\n",
       "  </thead>\n",
       "  <tbody>\n",
       "    <tr>\n",
       "      <th>gynecologist</th>\n",
       "      <td>1016</td>\n",
       "    </tr>\n",
       "    <tr>\n",
       "      <th>ophtalmologist</th>\n",
       "      <td>789</td>\n",
       "    </tr>\n",
       "    <tr>\n",
       "      <th>urologist</th>\n",
       "      <td>710</td>\n",
       "    </tr>\n",
       "    <tr>\n",
       "      <th>pediatrician</th>\n",
       "      <td>595</td>\n",
       "    </tr>\n",
       "    <tr>\n",
       "      <th>surgeon</th>\n",
       "      <td>529</td>\n",
       "    </tr>\n",
       "    <tr>\n",
       "      <th>psychiatrist</th>\n",
       "      <td>503</td>\n",
       "    </tr>\n",
       "    <tr>\n",
       "      <th>dermatologist</th>\n",
       "      <td>379</td>\n",
       "    </tr>\n",
       "    <tr>\n",
       "      <th>general practitioner</th>\n",
       "      <td>379</td>\n",
       "    </tr>\n",
       "    <tr>\n",
       "      <th>orthopaedist</th>\n",
       "      <td>362</td>\n",
       "    </tr>\n",
       "    <tr>\n",
       "      <th>kardgiologist</th>\n",
       "      <td>340</td>\n",
       "    </tr>\n",
       "    <tr>\n",
       "      <th>internist</th>\n",
       "      <td>248</td>\n",
       "    </tr>\n",
       "    <tr>\n",
       "      <th>anesthetist</th>\n",
       "      <td>181</td>\n",
       "    </tr>\n",
       "    <tr>\n",
       "      <th>occupational physician</th>\n",
       "      <td>178</td>\n",
       "    </tr>\n",
       "    <tr>\n",
       "      <th>reumatologist</th>\n",
       "      <td>110</td>\n",
       "    </tr>\n",
       "    <tr>\n",
       "      <th>oncologist</th>\n",
       "      <td>99</td>\n",
       "    </tr>\n",
       "    <tr>\n",
       "      <th>radiologist</th>\n",
       "      <td>89</td>\n",
       "    </tr>\n",
       "    <tr>\n",
       "      <th>endocrinologist</th>\n",
       "      <td>88</td>\n",
       "    </tr>\n",
       "    <tr>\n",
       "      <th>neurologist</th>\n",
       "      <td>79</td>\n",
       "    </tr>\n",
       "    <tr>\n",
       "      <th>gastroenterologist</th>\n",
       "      <td>57</td>\n",
       "    </tr>\n",
       "    <tr>\n",
       "      <th>diabetologist</th>\n",
       "      <td>53</td>\n",
       "    </tr>\n",
       "    <tr>\n",
       "      <th>patomorphologhist</th>\n",
       "      <td>33</td>\n",
       "    </tr>\n",
       "    <tr>\n",
       "      <th>nephrologist</th>\n",
       "      <td>29</td>\n",
       "    </tr>\n",
       "    <tr>\n",
       "      <th>pulmonologist</th>\n",
       "      <td>27</td>\n",
       "    </tr>\n",
       "    <tr>\n",
       "      <th>sport medicine specialist</th>\n",
       "      <td>15</td>\n",
       "    </tr>\n",
       "    <tr>\n",
       "      <th>haemotologist</th>\n",
       "      <td>13</td>\n",
       "    </tr>\n",
       "    <tr>\n",
       "      <th>infectiousDiseaseSpecialist</th>\n",
       "      <td>10</td>\n",
       "    </tr>\n",
       "    <tr>\n",
       "      <th>audiologist</th>\n",
       "      <td>7</td>\n",
       "    </tr>\n",
       "    <tr>\n",
       "      <th>geriatrician</th>\n",
       "      <td>6</td>\n",
       "    </tr>\n",
       "    <tr>\n",
       "      <th>genetist</th>\n",
       "      <td>4</td>\n",
       "    </tr>\n",
       "    <tr>\n",
       "      <th>neonatologist</th>\n",
       "      <td>4</td>\n",
       "    </tr>\n",
       "    <tr>\n",
       "      <th>angiologist</th>\n",
       "      <td>4</td>\n",
       "    </tr>\n",
       "    <tr>\n",
       "      <th>allergist</th>\n",
       "      <td>3</td>\n",
       "    </tr>\n",
       "    <tr>\n",
       "      <th>immunologist</th>\n",
       "      <td>2</td>\n",
       "    </tr>\n",
       "  </tbody>\n",
       "</table>\n",
       "</div>"
      ],
      "text/plain": [
       "                             Number\n",
       "Speciality                         \n",
       "gynecologist                   1016\n",
       "ophtalmologist                  789\n",
       "urologist                       710\n",
       "pediatrician                    595\n",
       "surgeon                         529\n",
       "psychiatrist                    503\n",
       "dermatologist                   379\n",
       "general practitioner            379\n",
       "orthopaedist                    362\n",
       "kardgiologist                   340\n",
       "internist                       248\n",
       "anesthetist                     181\n",
       "occupational physician          178\n",
       "reumatologist                   110\n",
       "oncologist                       99\n",
       "radiologist                      89\n",
       "endocrinologist                  88\n",
       "neurologist                      79\n",
       "gastroenterologist               57\n",
       "diabetologist                    53\n",
       "patomorphologhist                33\n",
       "nephrologist                     29\n",
       "pulmonologist                    27\n",
       "sport medicine specialist        15\n",
       "haemotologist                    13\n",
       "infectiousDiseaseSpecialist      10\n",
       "audiologist                       7\n",
       "geriatrician                      6\n",
       "genetist                          4\n",
       "neonatologist                     4\n",
       "angiologist                       4\n",
       "allergist                         3\n",
       "immunologist                      2"
      ]
     },
     "execution_count": 194,
     "metadata": {},
     "output_type": "execute_result"
    }
   ],
   "source": [
    "specialities_count"
   ]
  },
  {
   "attachments": {},
   "cell_type": "markdown",
   "metadata": {},
   "source": [
    "<h2 style=\"font-size: 20px;\"> Data Visualisation </h2>\n",
    "\n",
    "Yeay, we've got answer for our question!\n",
    "\n",
    "Lets make beautiful bar plot using Seaborn to share knowledge with others."
   ]
  },
  {
   "cell_type": "code",
   "execution_count": 201,
   "metadata": {},
   "outputs": [],
   "source": [
    "import matplotlib.pyplot as plt\n",
    "import seaborn as sns"
   ]
  },
  {
   "cell_type": "code",
   "execution_count": 207,
   "metadata": {},
   "outputs": [
    {
     "data": {
      "text/plain": [
       "[Text(0, 0, 'gynecologist'),\n",
       " Text(1, 0, 'ophtalmologist'),\n",
       " Text(2, 0, 'urologist'),\n",
       " Text(3, 0, 'pediatrician'),\n",
       " Text(4, 0, 'surgeon'),\n",
       " Text(5, 0, 'psychiatrist'),\n",
       " Text(6, 0, 'dermatologist'),\n",
       " Text(7, 0, 'general practitioner'),\n",
       " Text(8, 0, 'orthopaedist'),\n",
       " Text(9, 0, 'kardgiologist'),\n",
       " Text(10, 0, 'internist'),\n",
       " Text(11, 0, 'anesthetist'),\n",
       " Text(12, 0, 'occupational physician'),\n",
       " Text(13, 0, 'reumatologist'),\n",
       " Text(14, 0, 'oncologist'),\n",
       " Text(15, 0, 'radiologist'),\n",
       " Text(16, 0, 'endocrinologist'),\n",
       " Text(17, 0, 'neurologist'),\n",
       " Text(18, 0, 'gastroenterologist'),\n",
       " Text(19, 0, 'diabetologist'),\n",
       " Text(20, 0, 'patomorphologhist'),\n",
       " Text(21, 0, 'nephrologist'),\n",
       " Text(22, 0, 'pulmonologist'),\n",
       " Text(23, 0, 'sport medicine specialist'),\n",
       " Text(24, 0, 'haemotologist'),\n",
       " Text(25, 0, 'infectiousDiseaseSpecialist'),\n",
       " Text(26, 0, 'audiologist'),\n",
       " Text(27, 0, 'geriatrician'),\n",
       " Text(28, 0, 'genetist'),\n",
       " Text(29, 0, 'neonatologist'),\n",
       " Text(30, 0, 'angiologist'),\n",
       " Text(31, 0, 'allergist'),\n",
       " Text(32, 0, 'immunologist')]"
      ]
     },
     "execution_count": 207,
     "metadata": {},
     "output_type": "execute_result"
    },
    {
     "data": {
      "image/png": "[encoded data removed]",
      "text/plain": [
       "<Figure size 1800x800 with 1 Axes>"
      ]
     },
     "metadata": {},
     "output_type": "display_data"
    }
   ],
   "source": [
    "plt.figure(figsize=(18,8))\n",
    "chart = sns.barplot(data=specialities_count, y='Number', x=specialities_count.index)\n",
    "plt.title('Number of different kind Specialist with own business', fontsize=20)\n",
    "chart.set_xticklabels(chart.get_xticklabels(), rotation=45, horizontalalignment='right')"
   ]
  },
  {
   "attachments": {},
   "cell_type": "markdown",
   "metadata": {},
   "source": [
    "Thank you for reading and to the next time!"
   ]
  }
 ],
 "metadata": {
  "kernelspec": {
   "display_name": "Python 3",
   "language": "python",
   "name": "python3"
  },
  "language_info": {
   "codemirror_mode": {
    "name": "ipython",
    "version": 3
   },
   "file_extension": ".py",
   "mimetype": "text/x-python",
   "name": "python",
   "nbconvert_exporter": "python",
   "pygments_lexer": "ipython3",
   "version": "3.11.2"
  },
  "orig_nbformat": 4,
  "vscode": {
   "interpreter": {
    "hash": "a8cb30eadb7003b40cce9479bae4f5e3ddf878fd4951db12dec37ec4d13df503"
   }
  }
 },
 "nbformat": 4,
 "nbformat_minor": 2
}
